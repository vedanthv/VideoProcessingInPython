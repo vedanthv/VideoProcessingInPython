{
  "nbformat": 4,
  "nbformat_minor": 0,
  "metadata": {
    "colab": {
      "name": "YouTubeVideoTranscriptSummarization.ipynb",
      "provenance": []
    },
    "kernelspec": {
      "name": "python3",
      "display_name": "Python 3"
    },
    "language_info": {
      "name": "python"
    },
    "widgets": {
      "application/vnd.jupyter.widget-state+json": {
        "30065e778b534c1894d15b1a43e67055": {
          "model_module": "@jupyter-widgets/controls",
          "model_name": "HBoxModel",
          "model_module_version": "1.5.0",
          "state": {
            "_view_name": "HBoxView",
            "_dom_classes": [],
            "_model_name": "HBoxModel",
            "_view_module": "@jupyter-widgets/controls",
            "_model_module_version": "1.5.0",
            "_view_count": null,
            "_view_module_version": "1.5.0",
            "box_style": "",
            "layout": "IPY_MODEL_8e59dd638021478080954b8ff7973a18",
            "_model_module": "@jupyter-widgets/controls",
            "children": [
              "IPY_MODEL_c1d782c32f224b15831957f7b8b94c83",
              "IPY_MODEL_57efef2ea0b3443e8215029ab9ae7216"
            ]
          }
        },
        "8e59dd638021478080954b8ff7973a18": {
          "model_module": "@jupyter-widgets/base",
          "model_name": "LayoutModel",
          "model_module_version": "1.2.0",
          "state": {
            "_view_name": "LayoutView",
            "grid_template_rows": null,
            "right": null,
            "justify_content": null,
            "_view_module": "@jupyter-widgets/base",
            "overflow": null,
            "_model_module_version": "1.2.0",
            "_view_count": null,
            "flex_flow": null,
            "width": null,
            "min_width": null,
            "border": null,
            "align_items": null,
            "bottom": null,
            "_model_module": "@jupyter-widgets/base",
            "top": null,
            "grid_column": null,
            "overflow_y": null,
            "overflow_x": null,
            "grid_auto_flow": null,
            "grid_area": null,
            "grid_template_columns": null,
            "flex": null,
            "_model_name": "LayoutModel",
            "justify_items": null,
            "grid_row": null,
            "max_height": null,
            "align_content": null,
            "visibility": null,
            "align_self": null,
            "height": null,
            "min_height": null,
            "padding": null,
            "grid_auto_rows": null,
            "grid_gap": null,
            "max_width": null,
            "order": null,
            "_view_module_version": "1.2.0",
            "grid_template_areas": null,
            "object_position": null,
            "object_fit": null,
            "grid_auto_columns": null,
            "margin": null,
            "display": null,
            "left": null
          }
        },
        "c1d782c32f224b15831957f7b8b94c83": {
          "model_module": "@jupyter-widgets/controls",
          "model_name": "FloatProgressModel",
          "model_module_version": "1.5.0",
          "state": {
            "_view_name": "ProgressView",
            "style": "IPY_MODEL_809f8efab32749f2a0096ead30e4dd2b",
            "_dom_classes": [],
            "description": "Downloading: 100%",
            "_model_name": "FloatProgressModel",
            "bar_style": "success",
            "max": 1649,
            "_view_module": "@jupyter-widgets/controls",
            "_model_module_version": "1.5.0",
            "value": 1649,
            "_view_count": null,
            "_view_module_version": "1.5.0",
            "orientation": "horizontal",
            "min": 0,
            "description_tooltip": null,
            "_model_module": "@jupyter-widgets/controls",
            "layout": "IPY_MODEL_da10bc35ff194a8aa5ab1a4d2f1270bc"
          }
        },
        "57efef2ea0b3443e8215029ab9ae7216": {
          "model_module": "@jupyter-widgets/controls",
          "model_name": "HTMLModel",
          "model_module_version": "1.5.0",
          "state": {
            "_view_name": "HTMLView",
            "style": "IPY_MODEL_8ced682f22a74e39a3662ae56d06992c",
            "_dom_classes": [],
            "description": "",
            "_model_name": "HTMLModel",
            "placeholder": "​",
            "_view_module": "@jupyter-widgets/controls",
            "_model_module_version": "1.5.0",
            "value": " 1.65k/1.65k [00:59&lt;00:00, 27.8B/s]",
            "_view_count": null,
            "_view_module_version": "1.5.0",
            "description_tooltip": null,
            "_model_module": "@jupyter-widgets/controls",
            "layout": "IPY_MODEL_8bd32906d03a4988bfc051c6649fa41a"
          }
        },
        "809f8efab32749f2a0096ead30e4dd2b": {
          "model_module": "@jupyter-widgets/controls",
          "model_name": "ProgressStyleModel",
          "model_module_version": "1.5.0",
          "state": {
            "_view_name": "StyleView",
            "_model_name": "ProgressStyleModel",
            "description_width": "initial",
            "_view_module": "@jupyter-widgets/base",
            "_model_module_version": "1.5.0",
            "_view_count": null,
            "_view_module_version": "1.2.0",
            "bar_color": null,
            "_model_module": "@jupyter-widgets/controls"
          }
        },
        "da10bc35ff194a8aa5ab1a4d2f1270bc": {
          "model_module": "@jupyter-widgets/base",
          "model_name": "LayoutModel",
          "model_module_version": "1.2.0",
          "state": {
            "_view_name": "LayoutView",
            "grid_template_rows": null,
            "right": null,
            "justify_content": null,
            "_view_module": "@jupyter-widgets/base",
            "overflow": null,
            "_model_module_version": "1.2.0",
            "_view_count": null,
            "flex_flow": null,
            "width": null,
            "min_width": null,
            "border": null,
            "align_items": null,
            "bottom": null,
            "_model_module": "@jupyter-widgets/base",
            "top": null,
            "grid_column": null,
            "overflow_y": null,
            "overflow_x": null,
            "grid_auto_flow": null,
            "grid_area": null,
            "grid_template_columns": null,
            "flex": null,
            "_model_name": "LayoutModel",
            "justify_items": null,
            "grid_row": null,
            "max_height": null,
            "align_content": null,
            "visibility": null,
            "align_self": null,
            "height": null,
            "min_height": null,
            "padding": null,
            "grid_auto_rows": null,
            "grid_gap": null,
            "max_width": null,
            "order": null,
            "_view_module_version": "1.2.0",
            "grid_template_areas": null,
            "object_position": null,
            "object_fit": null,
            "grid_auto_columns": null,
            "margin": null,
            "display": null,
            "left": null
          }
        },
        "8ced682f22a74e39a3662ae56d06992c": {
          "model_module": "@jupyter-widgets/controls",
          "model_name": "DescriptionStyleModel",
          "model_module_version": "1.5.0",
          "state": {
            "_view_name": "StyleView",
            "_model_name": "DescriptionStyleModel",
            "description_width": "",
            "_view_module": "@jupyter-widgets/base",
            "_model_module_version": "1.5.0",
            "_view_count": null,
            "_view_module_version": "1.2.0",
            "_model_module": "@jupyter-widgets/controls"
          }
        },
        "8bd32906d03a4988bfc051c6649fa41a": {
          "model_module": "@jupyter-widgets/base",
          "model_name": "LayoutModel",
          "model_module_version": "1.2.0",
          "state": {
            "_view_name": "LayoutView",
            "grid_template_rows": null,
            "right": null,
            "justify_content": null,
            "_view_module": "@jupyter-widgets/base",
            "overflow": null,
            "_model_module_version": "1.2.0",
            "_view_count": null,
            "flex_flow": null,
            "width": null,
            "min_width": null,
            "border": null,
            "align_items": null,
            "bottom": null,
            "_model_module": "@jupyter-widgets/base",
            "top": null,
            "grid_column": null,
            "overflow_y": null,
            "overflow_x": null,
            "grid_auto_flow": null,
            "grid_area": null,
            "grid_template_columns": null,
            "flex": null,
            "_model_name": "LayoutModel",
            "justify_items": null,
            "grid_row": null,
            "max_height": null,
            "align_content": null,
            "visibility": null,
            "align_self": null,
            "height": null,
            "min_height": null,
            "padding": null,
            "grid_auto_rows": null,
            "grid_gap": null,
            "max_width": null,
            "order": null,
            "_view_module_version": "1.2.0",
            "grid_template_areas": null,
            "object_position": null,
            "object_fit": null,
            "grid_auto_columns": null,
            "margin": null,
            "display": null,
            "left": null
          }
        },
        "90fdb79e8c5f4f8ba092152d6308774a": {
          "model_module": "@jupyter-widgets/controls",
          "model_name": "HBoxModel",
          "model_module_version": "1.5.0",
          "state": {
            "_view_name": "HBoxView",
            "_dom_classes": [],
            "_model_name": "HBoxModel",
            "_view_module": "@jupyter-widgets/controls",
            "_model_module_version": "1.5.0",
            "_view_count": null,
            "_view_module_version": "1.5.0",
            "box_style": "",
            "layout": "IPY_MODEL_dfb1c7f3cd1244548ad5bfc14c28ed03",
            "_model_module": "@jupyter-widgets/controls",
            "children": [
              "IPY_MODEL_8d712d5f5da042828970f8c8dd1bd5c0",
              "IPY_MODEL_3fd34c057c6d4e4cb820c115c9332240"
            ]
          }
        },
        "dfb1c7f3cd1244548ad5bfc14c28ed03": {
          "model_module": "@jupyter-widgets/base",
          "model_name": "LayoutModel",
          "model_module_version": "1.2.0",
          "state": {
            "_view_name": "LayoutView",
            "grid_template_rows": null,
            "right": null,
            "justify_content": null,
            "_view_module": "@jupyter-widgets/base",
            "overflow": null,
            "_model_module_version": "1.2.0",
            "_view_count": null,
            "flex_flow": null,
            "width": null,
            "min_width": null,
            "border": null,
            "align_items": null,
            "bottom": null,
            "_model_module": "@jupyter-widgets/base",
            "top": null,
            "grid_column": null,
            "overflow_y": null,
            "overflow_x": null,
            "grid_auto_flow": null,
            "grid_area": null,
            "grid_template_columns": null,
            "flex": null,
            "_model_name": "LayoutModel",
            "justify_items": null,
            "grid_row": null,
            "max_height": null,
            "align_content": null,
            "visibility": null,
            "align_self": null,
            "height": null,
            "min_height": null,
            "padding": null,
            "grid_auto_rows": null,
            "grid_gap": null,
            "max_width": null,
            "order": null,
            "_view_module_version": "1.2.0",
            "grid_template_areas": null,
            "object_position": null,
            "object_fit": null,
            "grid_auto_columns": null,
            "margin": null,
            "display": null,
            "left": null
          }
        },
        "8d712d5f5da042828970f8c8dd1bd5c0": {
          "model_module": "@jupyter-widgets/controls",
          "model_name": "FloatProgressModel",
          "model_module_version": "1.5.0",
          "state": {
            "_view_name": "ProgressView",
            "style": "IPY_MODEL_341705e533d6452d94c79089ed7b17ab",
            "_dom_classes": [],
            "description": "Downloading: 100%",
            "_model_name": "FloatProgressModel",
            "bar_style": "success",
            "max": 1222317369,
            "_view_module": "@jupyter-widgets/controls",
            "_model_module_version": "1.5.0",
            "value": 1222317369,
            "_view_count": null,
            "_view_module_version": "1.5.0",
            "orientation": "horizontal",
            "min": 0,
            "description_tooltip": null,
            "_model_module": "@jupyter-widgets/controls",
            "layout": "IPY_MODEL_2d238790c4af469986dcca300e292834"
          }
        },
        "3fd34c057c6d4e4cb820c115c9332240": {
          "model_module": "@jupyter-widgets/controls",
          "model_name": "HTMLModel",
          "model_module_version": "1.5.0",
          "state": {
            "_view_name": "HTMLView",
            "style": "IPY_MODEL_84fb492c7b5143bdb4d4cdd2f1f81230",
            "_dom_classes": [],
            "description": "",
            "_model_name": "HTMLModel",
            "placeholder": "​",
            "_view_module": "@jupyter-widgets/controls",
            "_model_module_version": "1.5.0",
            "value": " 1.22G/1.22G [00:58&lt;00:00, 20.8MB/s]",
            "_view_count": null,
            "_view_module_version": "1.5.0",
            "description_tooltip": null,
            "_model_module": "@jupyter-widgets/controls",
            "layout": "IPY_MODEL_90a8d0ea0e764587821012600d9cf827"
          }
        },
        "341705e533d6452d94c79089ed7b17ab": {
          "model_module": "@jupyter-widgets/controls",
          "model_name": "ProgressStyleModel",
          "model_module_version": "1.5.0",
          "state": {
            "_view_name": "StyleView",
            "_model_name": "ProgressStyleModel",
            "description_width": "initial",
            "_view_module": "@jupyter-widgets/base",
            "_model_module_version": "1.5.0",
            "_view_count": null,
            "_view_module_version": "1.2.0",
            "bar_color": null,
            "_model_module": "@jupyter-widgets/controls"
          }
        },
        "2d238790c4af469986dcca300e292834": {
          "model_module": "@jupyter-widgets/base",
          "model_name": "LayoutModel",
          "model_module_version": "1.2.0",
          "state": {
            "_view_name": "LayoutView",
            "grid_template_rows": null,
            "right": null,
            "justify_content": null,
            "_view_module": "@jupyter-widgets/base",
            "overflow": null,
            "_model_module_version": "1.2.0",
            "_view_count": null,
            "flex_flow": null,
            "width": null,
            "min_width": null,
            "border": null,
            "align_items": null,
            "bottom": null,
            "_model_module": "@jupyter-widgets/base",
            "top": null,
            "grid_column": null,
            "overflow_y": null,
            "overflow_x": null,
            "grid_auto_flow": null,
            "grid_area": null,
            "grid_template_columns": null,
            "flex": null,
            "_model_name": "LayoutModel",
            "justify_items": null,
            "grid_row": null,
            "max_height": null,
            "align_content": null,
            "visibility": null,
            "align_self": null,
            "height": null,
            "min_height": null,
            "padding": null,
            "grid_auto_rows": null,
            "grid_gap": null,
            "max_width": null,
            "order": null,
            "_view_module_version": "1.2.0",
            "grid_template_areas": null,
            "object_position": null,
            "object_fit": null,
            "grid_auto_columns": null,
            "margin": null,
            "display": null,
            "left": null
          }
        },
        "84fb492c7b5143bdb4d4cdd2f1f81230": {
          "model_module": "@jupyter-widgets/controls",
          "model_name": "DescriptionStyleModel",
          "model_module_version": "1.5.0",
          "state": {
            "_view_name": "StyleView",
            "_model_name": "DescriptionStyleModel",
            "description_width": "",
            "_view_module": "@jupyter-widgets/base",
            "_model_module_version": "1.5.0",
            "_view_count": null,
            "_view_module_version": "1.2.0",
            "_model_module": "@jupyter-widgets/controls"
          }
        },
        "90a8d0ea0e764587821012600d9cf827": {
          "model_module": "@jupyter-widgets/base",
          "model_name": "LayoutModel",
          "model_module_version": "1.2.0",
          "state": {
            "_view_name": "LayoutView",
            "grid_template_rows": null,
            "right": null,
            "justify_content": null,
            "_view_module": "@jupyter-widgets/base",
            "overflow": null,
            "_model_module_version": "1.2.0",
            "_view_count": null,
            "flex_flow": null,
            "width": null,
            "min_width": null,
            "border": null,
            "align_items": null,
            "bottom": null,
            "_model_module": "@jupyter-widgets/base",
            "top": null,
            "grid_column": null,
            "overflow_y": null,
            "overflow_x": null,
            "grid_auto_flow": null,
            "grid_area": null,
            "grid_template_columns": null,
            "flex": null,
            "_model_name": "LayoutModel",
            "justify_items": null,
            "grid_row": null,
            "max_height": null,
            "align_content": null,
            "visibility": null,
            "align_self": null,
            "height": null,
            "min_height": null,
            "padding": null,
            "grid_auto_rows": null,
            "grid_gap": null,
            "max_width": null,
            "order": null,
            "_view_module_version": "1.2.0",
            "grid_template_areas": null,
            "object_position": null,
            "object_fit": null,
            "grid_auto_columns": null,
            "margin": null,
            "display": null,
            "left": null
          }
        },
        "88ab1c882dce4501839f7e99aded2831": {
          "model_module": "@jupyter-widgets/controls",
          "model_name": "HBoxModel",
          "model_module_version": "1.5.0",
          "state": {
            "_view_name": "HBoxView",
            "_dom_classes": [],
            "_model_name": "HBoxModel",
            "_view_module": "@jupyter-widgets/controls",
            "_model_module_version": "1.5.0",
            "_view_count": null,
            "_view_module_version": "1.5.0",
            "box_style": "",
            "layout": "IPY_MODEL_8e2696ea24454d9893b6c2d3cd41a07c",
            "_model_module": "@jupyter-widgets/controls",
            "children": [
              "IPY_MODEL_0a58473223c146f582d2d51b9f672232",
              "IPY_MODEL_fcc546ceaa554131a6e4ad0440b7d5a5"
            ]
          }
        },
        "8e2696ea24454d9893b6c2d3cd41a07c": {
          "model_module": "@jupyter-widgets/base",
          "model_name": "LayoutModel",
          "model_module_version": "1.2.0",
          "state": {
            "_view_name": "LayoutView",
            "grid_template_rows": null,
            "right": null,
            "justify_content": null,
            "_view_module": "@jupyter-widgets/base",
            "overflow": null,
            "_model_module_version": "1.2.0",
            "_view_count": null,
            "flex_flow": null,
            "width": null,
            "min_width": null,
            "border": null,
            "align_items": null,
            "bottom": null,
            "_model_module": "@jupyter-widgets/base",
            "top": null,
            "grid_column": null,
            "overflow_y": null,
            "overflow_x": null,
            "grid_auto_flow": null,
            "grid_area": null,
            "grid_template_columns": null,
            "flex": null,
            "_model_name": "LayoutModel",
            "justify_items": null,
            "grid_row": null,
            "max_height": null,
            "align_content": null,
            "visibility": null,
            "align_self": null,
            "height": null,
            "min_height": null,
            "padding": null,
            "grid_auto_rows": null,
            "grid_gap": null,
            "max_width": null,
            "order": null,
            "_view_module_version": "1.2.0",
            "grid_template_areas": null,
            "object_position": null,
            "object_fit": null,
            "grid_auto_columns": null,
            "margin": null,
            "display": null,
            "left": null
          }
        },
        "0a58473223c146f582d2d51b9f672232": {
          "model_module": "@jupyter-widgets/controls",
          "model_name": "FloatProgressModel",
          "model_module_version": "1.5.0",
          "state": {
            "_view_name": "ProgressView",
            "style": "IPY_MODEL_5920411be4b645ae973269b1f0116ad5",
            "_dom_classes": [],
            "description": "Downloading: 100%",
            "_model_name": "FloatProgressModel",
            "bar_style": "success",
            "max": 898822,
            "_view_module": "@jupyter-widgets/controls",
            "_model_module_version": "1.5.0",
            "value": 898822,
            "_view_count": null,
            "_view_module_version": "1.5.0",
            "orientation": "horizontal",
            "min": 0,
            "description_tooltip": null,
            "_model_module": "@jupyter-widgets/controls",
            "layout": "IPY_MODEL_7f8d886ff349411783096af1aaaf7268"
          }
        },
        "fcc546ceaa554131a6e4ad0440b7d5a5": {
          "model_module": "@jupyter-widgets/controls",
          "model_name": "HTMLModel",
          "model_module_version": "1.5.0",
          "state": {
            "_view_name": "HTMLView",
            "style": "IPY_MODEL_a2ba1a5e6d9b4605baf4d2fcf352b68f",
            "_dom_classes": [],
            "description": "",
            "_model_name": "HTMLModel",
            "placeholder": "​",
            "_view_module": "@jupyter-widgets/controls",
            "_model_module_version": "1.5.0",
            "value": " 899k/899k [00:00&lt;00:00, 1.89MB/s]",
            "_view_count": null,
            "_view_module_version": "1.5.0",
            "description_tooltip": null,
            "_model_module": "@jupyter-widgets/controls",
            "layout": "IPY_MODEL_7fe937d423714999b76b500870cc221f"
          }
        },
        "5920411be4b645ae973269b1f0116ad5": {
          "model_module": "@jupyter-widgets/controls",
          "model_name": "ProgressStyleModel",
          "model_module_version": "1.5.0",
          "state": {
            "_view_name": "StyleView",
            "_model_name": "ProgressStyleModel",
            "description_width": "initial",
            "_view_module": "@jupyter-widgets/base",
            "_model_module_version": "1.5.0",
            "_view_count": null,
            "_view_module_version": "1.2.0",
            "bar_color": null,
            "_model_module": "@jupyter-widgets/controls"
          }
        },
        "7f8d886ff349411783096af1aaaf7268": {
          "model_module": "@jupyter-widgets/base",
          "model_name": "LayoutModel",
          "model_module_version": "1.2.0",
          "state": {
            "_view_name": "LayoutView",
            "grid_template_rows": null,
            "right": null,
            "justify_content": null,
            "_view_module": "@jupyter-widgets/base",
            "overflow": null,
            "_model_module_version": "1.2.0",
            "_view_count": null,
            "flex_flow": null,
            "width": null,
            "min_width": null,
            "border": null,
            "align_items": null,
            "bottom": null,
            "_model_module": "@jupyter-widgets/base",
            "top": null,
            "grid_column": null,
            "overflow_y": null,
            "overflow_x": null,
            "grid_auto_flow": null,
            "grid_area": null,
            "grid_template_columns": null,
            "flex": null,
            "_model_name": "LayoutModel",
            "justify_items": null,
            "grid_row": null,
            "max_height": null,
            "align_content": null,
            "visibility": null,
            "align_self": null,
            "height": null,
            "min_height": null,
            "padding": null,
            "grid_auto_rows": null,
            "grid_gap": null,
            "max_width": null,
            "order": null,
            "_view_module_version": "1.2.0",
            "grid_template_areas": null,
            "object_position": null,
            "object_fit": null,
            "grid_auto_columns": null,
            "margin": null,
            "display": null,
            "left": null
          }
        },
        "a2ba1a5e6d9b4605baf4d2fcf352b68f": {
          "model_module": "@jupyter-widgets/controls",
          "model_name": "DescriptionStyleModel",
          "model_module_version": "1.5.0",
          "state": {
            "_view_name": "StyleView",
            "_model_name": "DescriptionStyleModel",
            "description_width": "",
            "_view_module": "@jupyter-widgets/base",
            "_model_module_version": "1.5.0",
            "_view_count": null,
            "_view_module_version": "1.2.0",
            "_model_module": "@jupyter-widgets/controls"
          }
        },
        "7fe937d423714999b76b500870cc221f": {
          "model_module": "@jupyter-widgets/base",
          "model_name": "LayoutModel",
          "model_module_version": "1.2.0",
          "state": {
            "_view_name": "LayoutView",
            "grid_template_rows": null,
            "right": null,
            "justify_content": null,
            "_view_module": "@jupyter-widgets/base",
            "overflow": null,
            "_model_module_version": "1.2.0",
            "_view_count": null,
            "flex_flow": null,
            "width": null,
            "min_width": null,
            "border": null,
            "align_items": null,
            "bottom": null,
            "_model_module": "@jupyter-widgets/base",
            "top": null,
            "grid_column": null,
            "overflow_y": null,
            "overflow_x": null,
            "grid_auto_flow": null,
            "grid_area": null,
            "grid_template_columns": null,
            "flex": null,
            "_model_name": "LayoutModel",
            "justify_items": null,
            "grid_row": null,
            "max_height": null,
            "align_content": null,
            "visibility": null,
            "align_self": null,
            "height": null,
            "min_height": null,
            "padding": null,
            "grid_auto_rows": null,
            "grid_gap": null,
            "max_width": null,
            "order": null,
            "_view_module_version": "1.2.0",
            "grid_template_areas": null,
            "object_position": null,
            "object_fit": null,
            "grid_auto_columns": null,
            "margin": null,
            "display": null,
            "left": null
          }
        },
        "bd4b3547240a4ec7a05614ebe1b5afa3": {
          "model_module": "@jupyter-widgets/controls",
          "model_name": "HBoxModel",
          "model_module_version": "1.5.0",
          "state": {
            "_view_name": "HBoxView",
            "_dom_classes": [],
            "_model_name": "HBoxModel",
            "_view_module": "@jupyter-widgets/controls",
            "_model_module_version": "1.5.0",
            "_view_count": null,
            "_view_module_version": "1.5.0",
            "box_style": "",
            "layout": "IPY_MODEL_a0640fa3cdfe4ebbb67532bc7e95feaf",
            "_model_module": "@jupyter-widgets/controls",
            "children": [
              "IPY_MODEL_f7b3ec5d51bb4b8381aa6fb36d0ebffe",
              "IPY_MODEL_c7549f428b724b2685350d5ee221873c"
            ]
          }
        },
        "a0640fa3cdfe4ebbb67532bc7e95feaf": {
          "model_module": "@jupyter-widgets/base",
          "model_name": "LayoutModel",
          "model_module_version": "1.2.0",
          "state": {
            "_view_name": "LayoutView",
            "grid_template_rows": null,
            "right": null,
            "justify_content": null,
            "_view_module": "@jupyter-widgets/base",
            "overflow": null,
            "_model_module_version": "1.2.0",
            "_view_count": null,
            "flex_flow": null,
            "width": null,
            "min_width": null,
            "border": null,
            "align_items": null,
            "bottom": null,
            "_model_module": "@jupyter-widgets/base",
            "top": null,
            "grid_column": null,
            "overflow_y": null,
            "overflow_x": null,
            "grid_auto_flow": null,
            "grid_area": null,
            "grid_template_columns": null,
            "flex": null,
            "_model_name": "LayoutModel",
            "justify_items": null,
            "grid_row": null,
            "max_height": null,
            "align_content": null,
            "visibility": null,
            "align_self": null,
            "height": null,
            "min_height": null,
            "padding": null,
            "grid_auto_rows": null,
            "grid_gap": null,
            "max_width": null,
            "order": null,
            "_view_module_version": "1.2.0",
            "grid_template_areas": null,
            "object_position": null,
            "object_fit": null,
            "grid_auto_columns": null,
            "margin": null,
            "display": null,
            "left": null
          }
        },
        "f7b3ec5d51bb4b8381aa6fb36d0ebffe": {
          "model_module": "@jupyter-widgets/controls",
          "model_name": "FloatProgressModel",
          "model_module_version": "1.5.0",
          "state": {
            "_view_name": "ProgressView",
            "style": "IPY_MODEL_e1a8e1cf61c7423994d81af29a68eee5",
            "_dom_classes": [],
            "description": "Downloading: 100%",
            "_model_name": "FloatProgressModel",
            "bar_style": "success",
            "max": 456318,
            "_view_module": "@jupyter-widgets/controls",
            "_model_module_version": "1.5.0",
            "value": 456318,
            "_view_count": null,
            "_view_module_version": "1.5.0",
            "orientation": "horizontal",
            "min": 0,
            "description_tooltip": null,
            "_model_module": "@jupyter-widgets/controls",
            "layout": "IPY_MODEL_e026dd48614e4734be43eaef779bde40"
          }
        },
        "c7549f428b724b2685350d5ee221873c": {
          "model_module": "@jupyter-widgets/controls",
          "model_name": "HTMLModel",
          "model_module_version": "1.5.0",
          "state": {
            "_view_name": "HTMLView",
            "style": "IPY_MODEL_d1bce00d4c71402aab33da6b68618d32",
            "_dom_classes": [],
            "description": "",
            "_model_name": "HTMLModel",
            "placeholder": "​",
            "_view_module": "@jupyter-widgets/controls",
            "_model_module_version": "1.5.0",
            "value": " 456k/456k [00:00&lt;00:00, 1.85MB/s]",
            "_view_count": null,
            "_view_module_version": "1.5.0",
            "description_tooltip": null,
            "_model_module": "@jupyter-widgets/controls",
            "layout": "IPY_MODEL_19b88a0cf0b046f281da93f28b95b233"
          }
        },
        "e1a8e1cf61c7423994d81af29a68eee5": {
          "model_module": "@jupyter-widgets/controls",
          "model_name": "ProgressStyleModel",
          "model_module_version": "1.5.0",
          "state": {
            "_view_name": "StyleView",
            "_model_name": "ProgressStyleModel",
            "description_width": "initial",
            "_view_module": "@jupyter-widgets/base",
            "_model_module_version": "1.5.0",
            "_view_count": null,
            "_view_module_version": "1.2.0",
            "bar_color": null,
            "_model_module": "@jupyter-widgets/controls"
          }
        },
        "e026dd48614e4734be43eaef779bde40": {
          "model_module": "@jupyter-widgets/base",
          "model_name": "LayoutModel",
          "model_module_version": "1.2.0",
          "state": {
            "_view_name": "LayoutView",
            "grid_template_rows": null,
            "right": null,
            "justify_content": null,
            "_view_module": "@jupyter-widgets/base",
            "overflow": null,
            "_model_module_version": "1.2.0",
            "_view_count": null,
            "flex_flow": null,
            "width": null,
            "min_width": null,
            "border": null,
            "align_items": null,
            "bottom": null,
            "_model_module": "@jupyter-widgets/base",
            "top": null,
            "grid_column": null,
            "overflow_y": null,
            "overflow_x": null,
            "grid_auto_flow": null,
            "grid_area": null,
            "grid_template_columns": null,
            "flex": null,
            "_model_name": "LayoutModel",
            "justify_items": null,
            "grid_row": null,
            "max_height": null,
            "align_content": null,
            "visibility": null,
            "align_self": null,
            "height": null,
            "min_height": null,
            "padding": null,
            "grid_auto_rows": null,
            "grid_gap": null,
            "max_width": null,
            "order": null,
            "_view_module_version": "1.2.0",
            "grid_template_areas": null,
            "object_position": null,
            "object_fit": null,
            "grid_auto_columns": null,
            "margin": null,
            "display": null,
            "left": null
          }
        },
        "d1bce00d4c71402aab33da6b68618d32": {
          "model_module": "@jupyter-widgets/controls",
          "model_name": "DescriptionStyleModel",
          "model_module_version": "1.5.0",
          "state": {
            "_view_name": "StyleView",
            "_model_name": "DescriptionStyleModel",
            "description_width": "",
            "_view_module": "@jupyter-widgets/base",
            "_model_module_version": "1.5.0",
            "_view_count": null,
            "_view_module_version": "1.2.0",
            "_model_module": "@jupyter-widgets/controls"
          }
        },
        "19b88a0cf0b046f281da93f28b95b233": {
          "model_module": "@jupyter-widgets/base",
          "model_name": "LayoutModel",
          "model_module_version": "1.2.0",
          "state": {
            "_view_name": "LayoutView",
            "grid_template_rows": null,
            "right": null,
            "justify_content": null,
            "_view_module": "@jupyter-widgets/base",
            "overflow": null,
            "_model_module_version": "1.2.0",
            "_view_count": null,
            "flex_flow": null,
            "width": null,
            "min_width": null,
            "border": null,
            "align_items": null,
            "bottom": null,
            "_model_module": "@jupyter-widgets/base",
            "top": null,
            "grid_column": null,
            "overflow_y": null,
            "overflow_x": null,
            "grid_auto_flow": null,
            "grid_area": null,
            "grid_template_columns": null,
            "flex": null,
            "_model_name": "LayoutModel",
            "justify_items": null,
            "grid_row": null,
            "max_height": null,
            "align_content": null,
            "visibility": null,
            "align_self": null,
            "height": null,
            "min_height": null,
            "padding": null,
            "grid_auto_rows": null,
            "grid_gap": null,
            "max_width": null,
            "order": null,
            "_view_module_version": "1.2.0",
            "grid_template_areas": null,
            "object_position": null,
            "object_fit": null,
            "grid_auto_columns": null,
            "margin": null,
            "display": null,
            "left": null
          }
        },
        "1d49a7643e4a43c1a0ee8ce3aecab14c": {
          "model_module": "@jupyter-widgets/controls",
          "model_name": "HBoxModel",
          "model_module_version": "1.5.0",
          "state": {
            "_view_name": "HBoxView",
            "_dom_classes": [],
            "_model_name": "HBoxModel",
            "_view_module": "@jupyter-widgets/controls",
            "_model_module_version": "1.5.0",
            "_view_count": null,
            "_view_module_version": "1.5.0",
            "box_style": "",
            "layout": "IPY_MODEL_51c1b2967ce746188502b2f22718fac5",
            "_model_module": "@jupyter-widgets/controls",
            "children": [
              "IPY_MODEL_b53c1d511c074d959464b4af5b58c823",
              "IPY_MODEL_4fd41ab443f14a448ca07a0d30cfbb17"
            ]
          }
        },
        "51c1b2967ce746188502b2f22718fac5": {
          "model_module": "@jupyter-widgets/base",
          "model_name": "LayoutModel",
          "model_module_version": "1.2.0",
          "state": {
            "_view_name": "LayoutView",
            "grid_template_rows": null,
            "right": null,
            "justify_content": null,
            "_view_module": "@jupyter-widgets/base",
            "overflow": null,
            "_model_module_version": "1.2.0",
            "_view_count": null,
            "flex_flow": null,
            "width": null,
            "min_width": null,
            "border": null,
            "align_items": null,
            "bottom": null,
            "_model_module": "@jupyter-widgets/base",
            "top": null,
            "grid_column": null,
            "overflow_y": null,
            "overflow_x": null,
            "grid_auto_flow": null,
            "grid_area": null,
            "grid_template_columns": null,
            "flex": null,
            "_model_name": "LayoutModel",
            "justify_items": null,
            "grid_row": null,
            "max_height": null,
            "align_content": null,
            "visibility": null,
            "align_self": null,
            "height": null,
            "min_height": null,
            "padding": null,
            "grid_auto_rows": null,
            "grid_gap": null,
            "max_width": null,
            "order": null,
            "_view_module_version": "1.2.0",
            "grid_template_areas": null,
            "object_position": null,
            "object_fit": null,
            "grid_auto_columns": null,
            "margin": null,
            "display": null,
            "left": null
          }
        },
        "b53c1d511c074d959464b4af5b58c823": {
          "model_module": "@jupyter-widgets/controls",
          "model_name": "FloatProgressModel",
          "model_module_version": "1.5.0",
          "state": {
            "_view_name": "ProgressView",
            "style": "IPY_MODEL_3f29dee3e09d451ca89b384cf6f4bd04",
            "_dom_classes": [],
            "description": "Downloading: 100%",
            "_model_name": "FloatProgressModel",
            "bar_style": "success",
            "max": 26,
            "_view_module": "@jupyter-widgets/controls",
            "_model_module_version": "1.5.0",
            "value": 26,
            "_view_count": null,
            "_view_module_version": "1.5.0",
            "orientation": "horizontal",
            "min": 0,
            "description_tooltip": null,
            "_model_module": "@jupyter-widgets/controls",
            "layout": "IPY_MODEL_9addf5b3fc8b4a4bac411de1886cdc76"
          }
        },
        "4fd41ab443f14a448ca07a0d30cfbb17": {
          "model_module": "@jupyter-widgets/controls",
          "model_name": "HTMLModel",
          "model_module_version": "1.5.0",
          "state": {
            "_view_name": "HTMLView",
            "style": "IPY_MODEL_b37c1c308a864256ae124d43431f0005",
            "_dom_classes": [],
            "description": "",
            "_model_name": "HTMLModel",
            "placeholder": "​",
            "_view_module": "@jupyter-widgets/controls",
            "_model_module_version": "1.5.0",
            "value": " 26.0/26.0 [00:00&lt;00:00, 215B/s]",
            "_view_count": null,
            "_view_module_version": "1.5.0",
            "description_tooltip": null,
            "_model_module": "@jupyter-widgets/controls",
            "layout": "IPY_MODEL_e0acfaeaf35748cdbcbb8200980b2397"
          }
        },
        "3f29dee3e09d451ca89b384cf6f4bd04": {
          "model_module": "@jupyter-widgets/controls",
          "model_name": "ProgressStyleModel",
          "model_module_version": "1.5.0",
          "state": {
            "_view_name": "StyleView",
            "_model_name": "ProgressStyleModel",
            "description_width": "initial",
            "_view_module": "@jupyter-widgets/base",
            "_model_module_version": "1.5.0",
            "_view_count": null,
            "_view_module_version": "1.2.0",
            "bar_color": null,
            "_model_module": "@jupyter-widgets/controls"
          }
        },
        "9addf5b3fc8b4a4bac411de1886cdc76": {
          "model_module": "@jupyter-widgets/base",
          "model_name": "LayoutModel",
          "model_module_version": "1.2.0",
          "state": {
            "_view_name": "LayoutView",
            "grid_template_rows": null,
            "right": null,
            "justify_content": null,
            "_view_module": "@jupyter-widgets/base",
            "overflow": null,
            "_model_module_version": "1.2.0",
            "_view_count": null,
            "flex_flow": null,
            "width": null,
            "min_width": null,
            "border": null,
            "align_items": null,
            "bottom": null,
            "_model_module": "@jupyter-widgets/base",
            "top": null,
            "grid_column": null,
            "overflow_y": null,
            "overflow_x": null,
            "grid_auto_flow": null,
            "grid_area": null,
            "grid_template_columns": null,
            "flex": null,
            "_model_name": "LayoutModel",
            "justify_items": null,
            "grid_row": null,
            "max_height": null,
            "align_content": null,
            "visibility": null,
            "align_self": null,
            "height": null,
            "min_height": null,
            "padding": null,
            "grid_auto_rows": null,
            "grid_gap": null,
            "max_width": null,
            "order": null,
            "_view_module_version": "1.2.0",
            "grid_template_areas": null,
            "object_position": null,
            "object_fit": null,
            "grid_auto_columns": null,
            "margin": null,
            "display": null,
            "left": null
          }
        },
        "b37c1c308a864256ae124d43431f0005": {
          "model_module": "@jupyter-widgets/controls",
          "model_name": "DescriptionStyleModel",
          "model_module_version": "1.5.0",
          "state": {
            "_view_name": "StyleView",
            "_model_name": "DescriptionStyleModel",
            "description_width": "",
            "_view_module": "@jupyter-widgets/base",
            "_model_module_version": "1.5.0",
            "_view_count": null,
            "_view_module_version": "1.2.0",
            "_model_module": "@jupyter-widgets/controls"
          }
        },
        "e0acfaeaf35748cdbcbb8200980b2397": {
          "model_module": "@jupyter-widgets/base",
          "model_name": "LayoutModel",
          "model_module_version": "1.2.0",
          "state": {
            "_view_name": "LayoutView",
            "grid_template_rows": null,
            "right": null,
            "justify_content": null,
            "_view_module": "@jupyter-widgets/base",
            "overflow": null,
            "_model_module_version": "1.2.0",
            "_view_count": null,
            "flex_flow": null,
            "width": null,
            "min_width": null,
            "border": null,
            "align_items": null,
            "bottom": null,
            "_model_module": "@jupyter-widgets/base",
            "top": null,
            "grid_column": null,
            "overflow_y": null,
            "overflow_x": null,
            "grid_auto_flow": null,
            "grid_area": null,
            "grid_template_columns": null,
            "flex": null,
            "_model_name": "LayoutModel",
            "justify_items": null,
            "grid_row": null,
            "max_height": null,
            "align_content": null,
            "visibility": null,
            "align_self": null,
            "height": null,
            "min_height": null,
            "padding": null,
            "grid_auto_rows": null,
            "grid_gap": null,
            "max_width": null,
            "order": null,
            "_view_module_version": "1.2.0",
            "grid_template_areas": null,
            "object_position": null,
            "object_fit": null,
            "grid_auto_columns": null,
            "margin": null,
            "display": null,
            "left": null
          }
        }
      }
    }
  },
  "cells": [
    {
      "cell_type": "markdown",
      "metadata": {
        "id": "b8jyY_ikRd8b"
      },
      "source": [
        "# Youtube Video Transcript Summarization"
      ]
    },
    {
      "cell_type": "code",
      "metadata": {
        "id": "uLHTsvbV0OtZ"
      },
      "source": [
        ""
      ],
      "execution_count": null,
      "outputs": []
    },
    {
      "cell_type": "code",
      "metadata": {
        "id": "nmyLJ0M_cYyf",
        "colab": {
          "base_uri": "https://localhost:8080/"
        },
        "outputId": "54e5879c-3aa4-40e1-f643-ed56164d5005"
      },
      "source": [
        "from google.colab import drive\n",
        "drive.mount('/content/drive')"
      ],
      "execution_count": null,
      "outputs": [
        {
          "output_type": "stream",
          "name": "stdout",
          "text": [
            "Mounted at /content/drive\n"
          ]
        }
      ]
    },
    {
      "cell_type": "markdown",
      "metadata": {
        "id": "lwIoaC7rHl0e"
      },
      "source": [
        "## Part 1 : Installing the Packges and getting the Video Id"
      ]
    },
    {
      "cell_type": "code",
      "metadata": {
        "id": "Woj-Z2htPRjp",
        "colab": {
          "base_uri": "https://localhost:8080/"
        },
        "outputId": "d3f66269-b237-4fe1-d23f-18ec641edddf"
      },
      "source": [
        "!pip install -q transformers"
      ],
      "execution_count": null,
      "outputs": [
        {
          "output_type": "stream",
          "name": "stdout",
          "text": [
            "\u001b[K     |████████████████████████████████| 2.8 MB 33.9 MB/s \n",
            "\u001b[K     |████████████████████████████████| 3.3 MB 55.8 MB/s \n",
            "\u001b[K     |████████████████████████████████| 895 kB 55.8 MB/s \n",
            "\u001b[K     |████████████████████████████████| 636 kB 60.2 MB/s \n",
            "\u001b[K     |████████████████████████████████| 50 kB 7.5 MB/s \n",
            "\u001b[?25h"
          ]
        }
      ]
    },
    {
      "cell_type": "code",
      "metadata": {
        "id": "8yqXz0JGSMhO"
      },
      "source": [
        "!pip install -q youtube_transcript_api"
      ],
      "execution_count": null,
      "outputs": []
    },
    {
      "cell_type": "code",
      "metadata": {
        "id": "4ZvK7scGSz2t"
      },
      "source": [
        "from transformers import pipeline\n",
        "from youtube_transcript_api import YouTubeTranscriptApi\n"
      ],
      "execution_count": null,
      "outputs": []
    },
    {
      "cell_type": "code",
      "metadata": {
        "id": "F5EF7SsSS2sZ"
      },
      "source": [
        "youtube_video = \"https://www.youtube.com/watch?v=ZQdAmVrzgIQ\""
      ],
      "execution_count": null,
      "outputs": []
    },
    {
      "cell_type": "code",
      "metadata": {
        "id": "vrz8t3mJTVTh"
      },
      "source": [
        "video_id = youtube_video.split(\"=\")[1]"
      ],
      "execution_count": null,
      "outputs": []
    },
    {
      "cell_type": "code",
      "metadata": {
        "colab": {
          "base_uri": "https://localhost:8080/",
          "height": 35
        },
        "id": "Ro4QwZkVTYEj",
        "outputId": "bbe3d37e-eb51-4c2a-d15a-0baeb88dd3e2"
      },
      "source": [
        "video_id"
      ],
      "execution_count": null,
      "outputs": [
        {
          "output_type": "execute_result",
          "data": {
            "application/vnd.google.colaboratory.intrinsic+json": {
              "type": "string"
            },
            "text/plain": [
              "'ZQdAmVrzgIQ'"
            ]
          },
          "metadata": {
            "tags": []
          },
          "execution_count": 6
        }
      ]
    },
    {
      "cell_type": "code",
      "metadata": {
        "id": "pPNB120aTbma"
      },
      "source": [
        "transcript = YouTubeTranscriptApi.get_transcript(video_id)"
      ],
      "execution_count": null,
      "outputs": []
    },
    {
      "cell_type": "code",
      "metadata": {
        "colab": {
          "base_uri": "https://localhost:8080/"
        },
        "id": "t_Lzoc8ITjcl",
        "outputId": "3ba99c5e-9e7b-485e-ecdd-a133173900d8"
      },
      "source": [
        "transcript[0:5]"
      ],
      "execution_count": null,
      "outputs": [
        {
          "output_type": "execute_result",
          "data": {
            "text/plain": [
              "[{'duration': 1.836,\n",
              "  'start': 1.0,\n",
              "  'text': 'The President:\\nThank you so much.'},\n",
              " {'duration': 3.036,\n",
              "  'start': 5.305,\n",
              "  'text': 'Thank you so much, Neha, for\\nwhat a wonderful introduction.'},\n",
              " {'duration': 2.469, 'start': 8.341, 'text': '(applause)'},\n",
              " {'duration': 3.77,\n",
              "  'start': 14.948,\n",
              "  'text': 'Everybody, please\\nhave a seat.'},\n",
              " {'duration': 4.271,\n",
              "  'start': 18.718,\n",
              "  'text': 'Nothing fills me with\\nmore hope than when'}]"
            ]
          },
          "metadata": {
            "tags": []
          },
          "execution_count": 8
        }
      ]
    },
    {
      "cell_type": "code",
      "metadata": {
        "colab": {
          "base_uri": "https://localhost:8080/"
        },
        "id": "kHXTEPmfTlP8",
        "outputId": "6450e054-e892-4cc0-a186-1a644406327c"
      },
      "source": [
        "result = \"\"\n",
        "for i in transcript:\n",
        "    result += ' ' + i['text']\n",
        "print(len(result))"
      ],
      "execution_count": null,
      "outputs": [
        {
          "output_type": "stream",
          "text": [
            "26180\n"
          ],
          "name": "stdout"
        }
      ]
    },
    {
      "cell_type": "markdown",
      "metadata": {
        "id": "vdkbJzicKmJj"
      },
      "source": [
        "## Part 2 : Building the Pipeline and Generating the Summary"
      ]
    },
    {
      "cell_type": "code",
      "metadata": {
        "id": "oHkT04W4TvtG",
        "colab": {
          "base_uri": "https://localhost:8080/",
          "height": 265,
          "referenced_widgets": [
            "30065e778b534c1894d15b1a43e67055",
            "8e59dd638021478080954b8ff7973a18",
            "c1d782c32f224b15831957f7b8b94c83",
            "57efef2ea0b3443e8215029ab9ae7216",
            "809f8efab32749f2a0096ead30e4dd2b",
            "da10bc35ff194a8aa5ab1a4d2f1270bc",
            "8ced682f22a74e39a3662ae56d06992c",
            "8bd32906d03a4988bfc051c6649fa41a",
            "90fdb79e8c5f4f8ba092152d6308774a",
            "dfb1c7f3cd1244548ad5bfc14c28ed03",
            "8d712d5f5da042828970f8c8dd1bd5c0",
            "3fd34c057c6d4e4cb820c115c9332240",
            "341705e533d6452d94c79089ed7b17ab",
            "2d238790c4af469986dcca300e292834",
            "84fb492c7b5143bdb4d4cdd2f1f81230",
            "90a8d0ea0e764587821012600d9cf827",
            "88ab1c882dce4501839f7e99aded2831",
            "8e2696ea24454d9893b6c2d3cd41a07c",
            "0a58473223c146f582d2d51b9f672232",
            "fcc546ceaa554131a6e4ad0440b7d5a5",
            "5920411be4b645ae973269b1f0116ad5",
            "7f8d886ff349411783096af1aaaf7268",
            "a2ba1a5e6d9b4605baf4d2fcf352b68f",
            "7fe937d423714999b76b500870cc221f",
            "bd4b3547240a4ec7a05614ebe1b5afa3",
            "a0640fa3cdfe4ebbb67532bc7e95feaf",
            "f7b3ec5d51bb4b8381aa6fb36d0ebffe",
            "c7549f428b724b2685350d5ee221873c",
            "e1a8e1cf61c7423994d81af29a68eee5",
            "e026dd48614e4734be43eaef779bde40",
            "d1bce00d4c71402aab33da6b68618d32",
            "19b88a0cf0b046f281da93f28b95b233",
            "1d49a7643e4a43c1a0ee8ce3aecab14c",
            "51c1b2967ce746188502b2f22718fac5",
            "b53c1d511c074d959464b4af5b58c823",
            "4fd41ab443f14a448ca07a0d30cfbb17",
            "3f29dee3e09d451ca89b384cf6f4bd04",
            "9addf5b3fc8b4a4bac411de1886cdc76",
            "b37c1c308a864256ae124d43431f0005",
            "e0acfaeaf35748cdbcbb8200980b2397"
          ]
        },
        "outputId": "ea848dfe-069c-45a5-b6ab-36affcec3646"
      },
      "source": [
        "summarizer = pipeline('summarization')"
      ],
      "execution_count": null,
      "outputs": [
        {
          "output_type": "display_data",
          "data": {
            "application/vnd.jupyter.widget-view+json": {
              "model_id": "30065e778b534c1894d15b1a43e67055",
              "version_minor": 0,
              "version_major": 2
            },
            "text/plain": [
              "HBox(children=(FloatProgress(value=0.0, description='Downloading', max=1649.0, style=ProgressStyle(description…"
            ]
          },
          "metadata": {
            "tags": []
          }
        },
        {
          "output_type": "stream",
          "text": [
            "\n"
          ],
          "name": "stdout"
        },
        {
          "output_type": "display_data",
          "data": {
            "application/vnd.jupyter.widget-view+json": {
              "model_id": "90fdb79e8c5f4f8ba092152d6308774a",
              "version_minor": 0,
              "version_major": 2
            },
            "text/plain": [
              "HBox(children=(FloatProgress(value=0.0, description='Downloading', max=1222317369.0, style=ProgressStyle(descr…"
            ]
          },
          "metadata": {
            "tags": []
          }
        },
        {
          "output_type": "stream",
          "text": [
            "\n"
          ],
          "name": "stdout"
        },
        {
          "output_type": "display_data",
          "data": {
            "application/vnd.jupyter.widget-view+json": {
              "model_id": "88ab1c882dce4501839f7e99aded2831",
              "version_minor": 0,
              "version_major": 2
            },
            "text/plain": [
              "HBox(children=(FloatProgress(value=0.0, description='Downloading', max=898822.0, style=ProgressStyle(descripti…"
            ]
          },
          "metadata": {
            "tags": []
          }
        },
        {
          "output_type": "stream",
          "text": [
            "\n"
          ],
          "name": "stdout"
        },
        {
          "output_type": "display_data",
          "data": {
            "application/vnd.jupyter.widget-view+json": {
              "model_id": "bd4b3547240a4ec7a05614ebe1b5afa3",
              "version_minor": 0,
              "version_major": 2
            },
            "text/plain": [
              "HBox(children=(FloatProgress(value=0.0, description='Downloading', max=456318.0, style=ProgressStyle(descripti…"
            ]
          },
          "metadata": {
            "tags": []
          }
        },
        {
          "output_type": "stream",
          "text": [
            "\n"
          ],
          "name": "stdout"
        },
        {
          "output_type": "display_data",
          "data": {
            "application/vnd.jupyter.widget-view+json": {
              "model_id": "1d49a7643e4a43c1a0ee8ce3aecab14c",
              "version_minor": 0,
              "version_major": 2
            },
            "text/plain": [
              "HBox(children=(FloatProgress(value=0.0, description='Downloading', max=26.0, style=ProgressStyle(description_w…"
            ]
          },
          "metadata": {
            "tags": []
          }
        },
        {
          "output_type": "stream",
          "text": [
            "\n"
          ],
          "name": "stdout"
        }
      ]
    },
    {
      "cell_type": "code",
      "metadata": {
        "colab": {
          "base_uri": "https://localhost:8080/"
        },
        "id": "iy_4TFhGTzNH",
        "outputId": "11687a18-0b16-4497-cab4-2de7e076c404"
      },
      "source": [
        "num_iters = int(len(result)/1000)\n",
        "summarized_text = []\n",
        "for i in range(0, num_iters + 1):\n",
        "  start = 0\n",
        "  start = i * 1000\n",
        "  end = (i + 1) * 1000\n",
        "  out = summarizer(result[start:end])\n",
        "  out = out[0]\n",
        "  out = out['summary_text']\n",
        "  summarized_text.append(out)\n",
        "\n",
        "print(summarized_text)"
      ],
      "execution_count": null,
      "outputs": [
        {
          "output_type": "stream",
          "text": [
            "Your max_length is set to 142, but you input_length is only 53. You might consider decreasing max_length manually, e.g. summarizer('...', max_length=50)\n"
          ],
          "name": "stderr"
        },
        {
          "output_type": "stream",
          "text": [
            "[\" The President: Nothing fills me with more hope than when I hear incredible young people like Neha and all the outstanding work that she's doing on behalf of India's youth . She makes me very, very proud, and I'm sure -- I think they may be her -- is that somebody else related to you?\", \" It was a great honor to be the first American President to join you for Republic Day . With the tricolor waving above us, we celebrated the strength of your constitution. We paid tribute to your fallen heroes. In yesterday's parade, we saw the pride and the diversity of this nation — including the Dare Devils on their Royal Enfields .\", ' President Obama: \"I recognized India with the first state visit of my presidency -- where we also danced to some pretty good Bhangra\" For the first time, \"we brought Diwali to the White House\" for first time . On a personal level, India represents an intersection of two men: Dr. Martin Luther King, Jr. When Reverend Dr. King was protesting racial segregation in the U.S., he was inspired .', ' Dr. King: \"My confidence in what our nations can achieve together is rooted in the values we share\" \"There is another link that binds us. More than 100 yearsago, America welcomed a son of India,\" says King . Swami Vivekananda helped bring Hinduism and yoga to the United States .', \" India has lifted countless millions from poverty and built one of the world's largest middle classes . Young people are connecting and collaborating like never before -- on Facebook and WhatsApp and Twitter . And here in India, this dynamism has resulted in a stunning achievement. Nobody embodies this progress and this sense of possibility more than young people.\", \" The United States has the largest Indian diaspora in the world, including some 3 million proud Indian-Americans . I believe America can be India's best partner. I believe that. America wants to be your partner as you li nds, your cousins. I'm here because I'm absolutely convinced that both our peoples will have more jobs and opportunity, and our nations will be more secure .\", \" India has lifted more people out of poverty than any other country in recent years, President Obama says . We're giving farmers new techniques and data -- from our satellites to their cell phones -- to increase yield and boost incomes . And with breakthroughs we achieved on this visit, we can finally move toward fully implementing our civil nuclear agreement .\", ' America wants to be your partner as you protect the health of your people, protect the beauty of this land, from the backwaters of Kerala to the banks of Ganges . America is ready to join you in building new infrastructure -- the roads and the ports, the bullet trains -- to propel India into the future .', ' Both nations have known the anguish of terrorism, and we stand united in the defense of our people . The United States welcomes a greater role for India in the Asia Pacific, where the freedom of navigation must be upheld and disputes must be resolved peacefully . We want to develop more advanced technologies with India, as we do with our closest allies .', ' India can play a positive role in helping countries forge a better future, from Burma to Sri Lanka . With your expertise in science and medicine, India can do more around the world to fight disease and develop new vaccines, and help end the moral outrage of even a single child dying from a preventable disease . And being global partners means confronting the urgent global challenge of climate change .', \" U.S. carbon pollution is near its lowest level in almost two decades, President Obama says . He says it's unfair to ask developing nations to reduce dependence on fossil fuels . The United States recognizes our part in creating this problem, so we're leading the effort to combat it, he says .\", \" I'll be gone when the worst effects happen. It's your generation and your children that are going to be impacted. That's why it's urgent that we begin this work right now. Development that lifts the lives and health of our people. Trade and economic. partnerships that reduce poverty and create opportunity. Leadership in the world that defends our security, advances human dignity, and protects our planet.\", \" India is defined by countless languages and dialects, and every color and caste and caste, gender and orientations . In America, we're black and white, and Latino and Asian, and Indian-American, and Native American . Michelle's grandfather was a cook for the British army in Kenya .\", \" Many countries, including the United States, grapple with questions of identity and inequality . Right now, in crowded neighborhoods not far from here, a man is driving an auto-rickshaw, or washing somebody else's clothes, or doing the hard work no one else will do . And I believe their dreams, hopes, are just as important, just as beautiful as ours .\", ' Michelle Obama: \"Our nations are strongest when we uphold the equality of all our people -- and that includes our women\" \"In the United States, we\\'re still working to make sure that women and girls have a chance, everybody who is willing to work for it have the ability to dream big,\" she says .', ' Indian women have shown that they can succeed in every field -- including government, where many of your leaders are women . When a girl goes to school, it is one of the most direct measures of whether a nation is going to develop effectively is how it treats its women . We know from experience that nations are more successful when their women are successful .', \" When women are able to work, families are healthier, communities are wealthier, and entire countries are more prosperous . Nations can't simply ignore the talents of half their people, President Obama says . Every daughter deserves the same chance as our sons, he says, because every girl's life matters .\", ' Our nations are strongest when we see that we are all God\\'s children -- all equal in His eyes and worthy of His love . Our freedom of religion is written into our founding documents. It\\'s part of America\\'s very first amendment. Our Article 25 says that all people are \"equally entitled to freedom of conscience,\" and the right freely to profess, practice and practice religion.\"', \" CNN's John Sutter says people have questioned his faith in Islam . Sutter: No society is immune from the darkest impulses of man . He says religion has been used to tap into those darker impulses as opposed to the light of God . The U.S. Sikh temple shooting in Wisconsin killed six people in 2010 killed six innocent people .\", \" The peace we seek in the world begins in human hearts, and it finds its glorious expression when we look beyond differences in religion or tribe, and rejoice in the beauty of every soul . Nowhere is it going to be more necessary for that foundational value to be upheld . India will succeed so long as it's not splintered along the lines of religious faith .\", ' Dr. King: Are we measured by the content of our character rather than the color of our skin or the manner in which we worship our God? In both our countries, in India and in America, our diversity is our strength, he says. And we have to guard against efforts to divide ourselves along sectarian lines or any other lines .', ' Most people in India are under 35 years old; India is on track to become the world\\'s most populous country . Michelle Obama: Young Indians like you aren\\'t just going to define the future of this nation, but you\\'re going to shape the world . Obama: \"You\\'re the one who has to break down these old stereotypes and these old barriers\"', \" As India builds new community colleges, we'll link you with our own, so more young people graduate with skills and training to succeed . We'll increase collaborations between our colleges and universities, and help create the next India institute of technology . And we'll increase exchanges, because I want more American students coming to India, and more Indian students .\", \" Vishal, 16, lives in South Delhi, India, and his family lives in the village of Mor Band . Vishal loves math, loves kabaddi, studies math, and dreams of someday joining the armed forces . Michelle and Michelle met Vishal's brother and sister in their modest home .\", \" Sisters and brothers of India, we are not perfect countries. And we've known tragedy and triumph. We're very proud of him, because he's an example of the talent that's here. And Vishal's dreams are as important as Malia and Sasha's dreams, our daughters .\", \" We believe that the circumstances of our birth need not dictate the behaviors of our lives, President Obama says . We believe in the laborer and student pursuing her degree, and we believe in a young boy who knows that if he just keeps studying, if he's just given the chance, his hopes might be realized, too .\", \" We believe in the people of India. We are proud to be your partner as you build the country of your dreams. Jai Hind! (applause) Thank you. f India. (Applause: We are) proud to have a partner in building the country's dreams of India .\"]\n"
          ],
          "name": "stdout"
        }
      ]
    },
    {
      "cell_type": "code",
      "metadata": {
        "colab": {
          "base_uri": "https://localhost:8080/"
        },
        "id": "LjNaaB7wUjt5",
        "outputId": "d623f403-00b4-4c14-873a-1965f5e61f5b"
      },
      "source": [
        "len(str(summarized_text))"
      ],
      "execution_count": null,
      "outputs": [
        {
          "output_type": "execute_result",
          "data": {
            "text/plain": [
              "9053"
            ]
          },
          "metadata": {
            "tags": []
          },
          "execution_count": 12
        }
      ]
    },
    {
      "cell_type": "code",
      "metadata": {
        "colab": {
          "base_uri": "https://localhost:8080/"
        },
        "id": "aze2miayWCqK",
        "outputId": "23b16486-c9f9-4d57-b92c-3b45a8fd8713"
      },
      "source": [
        "summarized_text"
      ],
      "execution_count": null,
      "outputs": [
        {
          "output_type": "execute_result",
          "data": {
            "text/plain": [
              "[\" The President: Nothing fills me with more hope than when I hear incredible young people like Neha and all the outstanding work that she's doing on behalf of India's youth . She makes me very, very proud, and I'm sure -- I think they may be her -- is that somebody else related to you?\",\n",
              " \" It was a great honor to be the first American President to join you for Republic Day . With the tricolor waving above us, we celebrated the strength of your constitution. We paid tribute to your fallen heroes. In yesterday's parade, we saw the pride and the diversity of this nation — including the Dare Devils on their Royal Enfields .\",\n",
              " ' President Obama: \"I recognized India with the first state visit of my presidency -- where we also danced to some pretty good Bhangra\" For the first time, \"we brought Diwali to the White House\" for first time . On a personal level, India represents an intersection of two men: Dr. Martin Luther King, Jr. When Reverend Dr. King was protesting racial segregation in the U.S., he was inspired .',\n",
              " ' Dr. King: \"My confidence in what our nations can achieve together is rooted in the values we share\" \"There is another link that binds us. More than 100 yearsago, America welcomed a son of India,\" says King . Swami Vivekananda helped bring Hinduism and yoga to the United States .',\n",
              " \" India has lifted countless millions from poverty and built one of the world's largest middle classes . Young people are connecting and collaborating like never before -- on Facebook and WhatsApp and Twitter . And here in India, this dynamism has resulted in a stunning achievement. Nobody embodies this progress and this sense of possibility more than young people.\",\n",
              " \" The United States has the largest Indian diaspora in the world, including some 3 million proud Indian-Americans . I believe America can be India's best partner. I believe that. America wants to be your partner as you li nds, your cousins. I'm here because I'm absolutely convinced that both our peoples will have more jobs and opportunity, and our nations will be more secure .\",\n",
              " \" India has lifted more people out of poverty than any other country in recent years, President Obama says . We're giving farmers new techniques and data -- from our satellites to their cell phones -- to increase yield and boost incomes . And with breakthroughs we achieved on this visit, we can finally move toward fully implementing our civil nuclear agreement .\",\n",
              " ' America wants to be your partner as you protect the health of your people, protect the beauty of this land, from the backwaters of Kerala to the banks of Ganges . America is ready to join you in building new infrastructure -- the roads and the ports, the bullet trains -- to propel India into the future .',\n",
              " ' Both nations have known the anguish of terrorism, and we stand united in the defense of our people . The United States welcomes a greater role for India in the Asia Pacific, where the freedom of navigation must be upheld and disputes must be resolved peacefully . We want to develop more advanced technologies with India, as we do with our closest allies .',\n",
              " ' India can play a positive role in helping countries forge a better future, from Burma to Sri Lanka . With your expertise in science and medicine, India can do more around the world to fight disease and develop new vaccines, and help end the moral outrage of even a single child dying from a preventable disease . And being global partners means confronting the urgent global challenge of climate change .',\n",
              " \" U.S. carbon pollution is near its lowest level in almost two decades, President Obama says . He says it's unfair to ask developing nations to reduce dependence on fossil fuels . The United States recognizes our part in creating this problem, so we're leading the effort to combat it, he says .\",\n",
              " \" I'll be gone when the worst effects happen. It's your generation and your children that are going to be impacted. That's why it's urgent that we begin this work right now. Development that lifts the lives and health of our people. Trade and economic. partnerships that reduce poverty and create opportunity. Leadership in the world that defends our security, advances human dignity, and protects our planet.\",\n",
              " \" India is defined by countless languages and dialects, and every color and caste and caste, gender and orientations . In America, we're black and white, and Latino and Asian, and Indian-American, and Native American . Michelle's grandfather was a cook for the British army in Kenya .\",\n",
              " \" Many countries, including the United States, grapple with questions of identity and inequality . Right now, in crowded neighborhoods not far from here, a man is driving an auto-rickshaw, or washing somebody else's clothes, or doing the hard work no one else will do . And I believe their dreams, hopes, are just as important, just as beautiful as ours .\",\n",
              " ' Michelle Obama: \"Our nations are strongest when we uphold the equality of all our people -- and that includes our women\" \"In the United States, we\\'re still working to make sure that women and girls have a chance, everybody who is willing to work for it have the ability to dream big,\" she says .',\n",
              " ' Indian women have shown that they can succeed in every field -- including government, where many of your leaders are women . When a girl goes to school, it is one of the most direct measures of whether a nation is going to develop effectively is how it treats its women . We know from experience that nations are more successful when their women are successful .',\n",
              " \" When women are able to work, families are healthier, communities are wealthier, and entire countries are more prosperous . Nations can't simply ignore the talents of half their people, President Obama says . Every daughter deserves the same chance as our sons, he says, because every girl's life matters .\",\n",
              " ' Our nations are strongest when we see that we are all God\\'s children -- all equal in His eyes and worthy of His love . Our freedom of religion is written into our founding documents. It\\'s part of America\\'s very first amendment. Our Article 25 says that all people are \"equally entitled to freedom of conscience,\" and the right freely to profess, practice and practice religion.\"',\n",
              " \" CNN's John Sutter says people have questioned his faith in Islam . Sutter: No society is immune from the darkest impulses of man . He says religion has been used to tap into those darker impulses as opposed to the light of God . The U.S. Sikh temple shooting in Wisconsin killed six people in 2010 killed six innocent people .\",\n",
              " \" The peace we seek in the world begins in human hearts, and it finds its glorious expression when we look beyond differences in religion or tribe, and rejoice in the beauty of every soul . Nowhere is it going to be more necessary for that foundational value to be upheld . India will succeed so long as it's not splintered along the lines of religious faith .\",\n",
              " ' Dr. King: Are we measured by the content of our character rather than the color of our skin or the manner in which we worship our God? In both our countries, in India and in America, our diversity is our strength, he says. And we have to guard against efforts to divide ourselves along sectarian lines or any other lines .',\n",
              " ' Most people in India are under 35 years old; India is on track to become the world\\'s most populous country . Michelle Obama: Young Indians like you aren\\'t just going to define the future of this nation, but you\\'re going to shape the world . Obama: \"You\\'re the one who has to break down these old stereotypes and these old barriers\"',\n",
              " \" As India builds new community colleges, we'll link you with our own, so more young people graduate with skills and training to succeed . We'll increase collaborations between our colleges and universities, and help create the next India institute of technology . And we'll increase exchanges, because I want more American students coming to India, and more Indian students .\",\n",
              " \" Vishal, 16, lives in South Delhi, India, and his family lives in the village of Mor Band . Vishal loves math, loves kabaddi, studies math, and dreams of someday joining the armed forces . Michelle and Michelle met Vishal's brother and sister in their modest home .\",\n",
              " \" Sisters and brothers of India, we are not perfect countries. And we've known tragedy and triumph. We're very proud of him, because he's an example of the talent that's here. And Vishal's dreams are as important as Malia and Sasha's dreams, our daughters .\",\n",
              " \" We believe that the circumstances of our birth need not dictate the behaviors of our lives, President Obama says . We believe in the laborer and student pursuing her degree, and we believe in a young boy who knows that if he just keeps studying, if he's just given the chance, his hopes might be realized, too .\",\n",
              " \" We believe in the people of India. We are proud to be your partner as you build the country of your dreams. Jai Hind! (applause) Thank you. f India. (Applause: We are) proud to have a partner in building the country's dreams of India .\"]"
            ]
          },
          "metadata": {
            "tags": []
          },
          "execution_count": 13
        }
      ]
    },
    {
      "cell_type": "code",
      "metadata": {
        "id": "a76InF2HVPE1"
      },
      "source": [
        "summarized_text = str(summarized_text)"
      ],
      "execution_count": null,
      "outputs": []
    },
    {
      "cell_type": "markdown",
      "metadata": {
        "id": "LwIol6D-g2op"
      },
      "source": [
        "## Part 3 : Convert to Audio!"
      ]
    },
    {
      "cell_type": "code",
      "metadata": {
        "colab": {
          "base_uri": "https://localhost:8080/"
        },
        "id": "TmsR7pcjVQzV",
        "outputId": "bcf8f296-bfaa-4bf9-cbcf-5b1aaddb99e7"
      },
      "source": [
        "!pip install gtts"
      ],
      "execution_count": null,
      "outputs": [
        {
          "output_type": "stream",
          "text": [
            "Collecting gtts\n",
            "  Downloading https://files.pythonhosted.org/packages/5f/b9/94e59337107be134b21ce395a29fc0715b707b560108d6797de2d93e1178/gTTS-2.2.2-py3-none-any.whl\n",
            "Requirement already satisfied: requests in /usr/local/lib/python3.7/dist-packages (from gtts) (2.23.0)\n",
            "Requirement already satisfied: six in /usr/local/lib/python3.7/dist-packages (from gtts) (1.15.0)\n",
            "Requirement already satisfied: click in /usr/local/lib/python3.7/dist-packages (from gtts) (7.1.2)\n",
            "Requirement already satisfied: certifi>=2017.4.17 in /usr/local/lib/python3.7/dist-packages (from requests->gtts) (2020.12.5)\n",
            "Requirement already satisfied: idna<3,>=2.5 in /usr/local/lib/python3.7/dist-packages (from requests->gtts) (2.10)\n",
            "Requirement already satisfied: urllib3!=1.25.0,!=1.25.1,<1.26,>=1.21.1 in /usr/local/lib/python3.7/dist-packages (from requests->gtts) (1.24.3)\n",
            "Requirement already satisfied: chardet<4,>=3.0.2 in /usr/local/lib/python3.7/dist-packages (from requests->gtts) (3.0.4)\n",
            "Installing collected packages: gtts\n",
            "Successfully installed gtts-2.2.2\n"
          ],
          "name": "stdout"
        }
      ]
    },
    {
      "cell_type": "code",
      "metadata": {
        "id": "OmCWr63eVucc"
      },
      "source": [
        "# Import the required module for text \n",
        "# to speech conversion\n",
        "from gtts import gTTS"
      ],
      "execution_count": null,
      "outputs": []
    },
    {
      "cell_type": "code",
      "metadata": {
        "id": "1PUt9CwKV1wn"
      },
      "source": [
        "# This module is imported so that we can \n",
        "# play the converted audio\n",
        "import os"
      ],
      "execution_count": null,
      "outputs": []
    },
    {
      "cell_type": "code",
      "metadata": {
        "id": "ZJWt1cyHV4Zs"
      },
      "source": [
        "# The text that you want to convert to audio\n",
        "mytext = summarized_text\n",
        "  \n",
        "# Language in which you want to convert\n",
        "language = 'en'"
      ],
      "execution_count": null,
      "outputs": []
    },
    {
      "cell_type": "code",
      "metadata": {
        "id": "hxVujwqzV9Ug"
      },
      "source": [
        "# Passing the text and language to the engine, \n",
        "# here we have marked slow=False. Which tells \n",
        "# the module that the converted audio should \n",
        "# have a high speed\n",
        "myobj = gTTS(text=mytext, lang=language, slow=False)"
      ],
      "execution_count": null,
      "outputs": []
    },
    {
      "cell_type": "code",
      "metadata": {
        "id": "EyjDo1neWTMR"
      },
      "source": [
        "myobj.save('summary.mp3')\n"
      ],
      "execution_count": null,
      "outputs": []
    },
    {
      "cell_type": "code",
      "metadata": {
        "colab": {
          "base_uri": "https://localhost:8080/"
        },
        "id": "nRLLHjdpWVXp",
        "outputId": "911f4042-2722-4a23-cb35-30723268cc97"
      },
      "source": [
        "os.system(\"mpg321 summary.mp3\")\n"
      ],
      "execution_count": null,
      "outputs": [
        {
          "output_type": "execute_result",
          "data": {
            "text/plain": [
              "32512"
            ]
          },
          "metadata": {
            "tags": []
          },
          "execution_count": 23
        }
      ]
    },
    {
      "cell_type": "code",
      "metadata": {
        "id": "Si62Bev1iL64"
      },
      "source": [
        ""
      ],
      "execution_count": null,
      "outputs": []
    }
  ]
}